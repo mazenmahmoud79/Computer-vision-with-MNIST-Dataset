{
  "nbformat": 4,
  "nbformat_minor": 0,
  "metadata": {
    "colab": {
      "provenance": []
    },
    "kernelspec": {
      "name": "python3",
      "display_name": "Python 3"
    },
    "language_info": {
      "name": "python"
    }
  },
  "cells": [
    {
      "cell_type": "code",
      "execution_count": null,
      "metadata": {
        "id": "U9kNvbb3WVQ5"
      },
      "outputs": [],
      "source": [
        "import os\n",
        "import numpy as np\n",
        "import tensorflow as tf\n",
        "from tensorflow import keras"
      ]
    },
    {
      "cell_type": "code",
      "source": [
        "# Load the data\n",
        "\n",
        "fmnist = tf.keras.datasets.fashion_mnist\n",
        "(training_images, training_labels), _ = fmnist.load_data()\n"
      ],
      "metadata": {
        "id": "Cf8SQFtzWZKc",
        "outputId": "ea7cebad-de04-42cc-de87-14e55b704c3e",
        "colab": {
          "base_uri": "https://localhost:8080/"
        }
      },
      "execution_count": null,
      "outputs": [
        {
          "output_type": "stream",
          "name": "stdout",
          "text": [
            "Downloading data from https://storage.googleapis.com/tensorflow/tf-keras-datasets/train-labels-idx1-ubyte.gz\n",
            "29515/29515 [==============================] - 0s 0us/step\n",
            "Downloading data from https://storage.googleapis.com/tensorflow/tf-keras-datasets/train-images-idx3-ubyte.gz\n",
            "26421880/26421880 [==============================] - 1s 0us/step\n",
            "Downloading data from https://storage.googleapis.com/tensorflow/tf-keras-datasets/t10k-labels-idx1-ubyte.gz\n",
            "5148/5148 [==============================] - 0s 0us/step\n",
            "Downloading data from https://storage.googleapis.com/tensorflow/tf-keras-datasets/t10k-images-idx3-ubyte.gz\n",
            "4422102/4422102 [==============================] - 1s 0us/step\n"
          ]
        }
      ]
    },
    {
      "cell_type": "code",
      "source": [
        "def reshape_and_normalize(images):\n",
        "\n",
        "    ### START CODE HERE\n",
        "\n",
        "    # Reshape the images to add an extra dimension\n",
        "    images = np.expand_dims(images, axis=-1)\n",
        "\n",
        "    # Normalize pixel values\n",
        "    images = images / 255.0\n",
        "\n",
        "    ### END CODE HERE\n",
        "\n",
        "    return images"
      ],
      "metadata": {
        "id": "J9S3obexWa_s"
      },
      "execution_count": null,
      "outputs": []
    },
    {
      "cell_type": "code",
      "source": [
        "training_images = reshape_and_normalize(training_images)\n",
        "\n",
        "print(f\"Maximum pixel value after normalization: {np.max(training_images)}\\n\")\n",
        "print(f\"Shape of training set after reshaping: {training_images.shape}\\n\")\n",
        "print(f\"Shape of one image after reshaping: {training_images[0].shape}\")\n"
      ],
      "metadata": {
        "id": "ySBRxzQPWceh",
        "colab": {
          "base_uri": "https://localhost:8080/"
        },
        "outputId": "95477c30-1523-47c8-f72d-1e8c66ff7163"
      },
      "execution_count": null,
      "outputs": [
        {
          "output_type": "stream",
          "name": "stdout",
          "text": [
            "Maximum pixel value after normalization: 1.0\n",
            "\n",
            "Shape of training set after reshaping: (60000, 28, 28, 1)\n",
            "\n",
            "Shape of one image after reshaping: (28, 28, 1)\n"
          ]
        }
      ]
    },
    {
      "cell_type": "code",
      "source": [
        "class myCallback(tf.keras.callbacks.Callback):\n",
        "    # Define the method that checks the accuracy at the end of each epoch\n",
        "    def on_epoch_end(self,epoch,logs={}):\n",
        "        if logs.get(\"accuracy\") is not None and logs.get(\"accuracy\") >= 0.995:\n",
        "          print(\"Reached 99.8% accuracy so cancelling training!\")\n",
        "          self.model.stop_training=True"
      ],
      "metadata": {
        "id": "XW6aoBwHXCMU"
      },
      "execution_count": null,
      "outputs": []
    },
    {
      "cell_type": "code",
      "source": [
        "def convolutional_model():\n",
        "\n",
        "    # Define the model\n",
        "    model = tf.keras.models.Sequential([\n",
        "        tf.keras.layers.Conv2D(32,(3,3),activation=\"relu\",input_shape=(28,28,1)),\n",
        "        tf.keras.layers.MaxPooling2D(2,2),\n",
        "        tf.keras.layers.Flatten(),\n",
        "        tf.keras.layers.Dense(128,activation=\"relu\"),\n",
        "        tf.keras.layers.Dense(10,activation=\"softmax\")\n",
        "    ])\n",
        "\n",
        "\n",
        "    # Compile the model\n",
        "    model.compile(optimizer='adam',\n",
        "                  loss='sparse_categorical_crossentropy',\n",
        "                  metrics=['accuracy'])\n",
        "\n",
        "    return model"
      ],
      "metadata": {
        "id": "BQehKYdMXGpP"
      },
      "execution_count": null,
      "outputs": []
    },
    {
      "cell_type": "code",
      "source": [
        "# grader-required-cell\n",
        "\n",
        "# Save your untrained model\n",
        "model = convolutional_model()\n",
        "\n",
        "# Get number of weights\n",
        "model_params = model.count_params()\n",
        "\n",
        "# Unit test to limit the size of the model\n",
        "assert model_params < 1000000, (\n",
        "    f'Your model has {model_params:,} params. For successful grading, please keep it '\n",
        "    f'under 1,000,000 by reducing the number of units in your Conv2D and/or Dense layers.'\n",
        ")\n",
        "\n",
        "# Instantiate the callback class\n",
        "callbacks = myCallback()\n",
        "\n",
        "# Train your model (this can take up to 5 minutes)\n",
        "history = model.fit(training_images, training_labels, epochs=10, callbacks=[callbacks])"
      ],
      "metadata": {
        "colab": {
          "base_uri": "https://localhost:8080/"
        },
        "id": "MQptDzZ2XNQj",
        "outputId": "0e78a59c-2efa-45c2-a82f-9e5579900dc8"
      },
      "execution_count": null,
      "outputs": [
        {
          "output_type": "stream",
          "name": "stdout",
          "text": [
            "Epoch 1/10\n",
            "1875/1875 [==============================] - 49s 25ms/step - loss: 0.3911 - accuracy: 0.8610\n",
            "Epoch 2/10\n",
            "1875/1875 [==============================] - 48s 25ms/step - loss: 0.2621 - accuracy: 0.9057\n",
            "Epoch 3/10\n",
            "1875/1875 [==============================] - 47s 25ms/step - loss: 0.2198 - accuracy: 0.9189\n",
            "Epoch 4/10\n",
            "1875/1875 [==============================] - 46s 25ms/step - loss: 0.1854 - accuracy: 0.9323\n",
            "Epoch 5/10\n",
            "1875/1875 [==============================] - 47s 25ms/step - loss: 0.1586 - accuracy: 0.9403\n",
            "Epoch 6/10\n",
            "1875/1875 [==============================] - 45s 24ms/step - loss: 0.1327 - accuracy: 0.9517\n",
            "Epoch 7/10\n",
            "1875/1875 [==============================] - 49s 26ms/step - loss: 0.1138 - accuracy: 0.9579\n",
            "Epoch 8/10\n",
            "1875/1875 [==============================] - 46s 24ms/step - loss: 0.0946 - accuracy: 0.9655\n",
            "Epoch 9/10\n",
            "1875/1875 [==============================] - 47s 25ms/step - loss: 0.0801 - accuracy: 0.9714\n",
            "Epoch 10/10\n",
            "1875/1875 [==============================] - 46s 24ms/step - loss: 0.0686 - accuracy: 0.9750\n"
          ]
        }
      ]
    },
    {
      "cell_type": "code",
      "source": [
        "# grader-required-cell\n",
        "\n",
        "print(f\"Your model was trained for {len(history.epoch)} epochs\")"
      ],
      "metadata": {
        "colab": {
          "base_uri": "https://localhost:8080/"
        },
        "id": "rdU3uyd4XPFQ",
        "outputId": "47601bdf-acf4-4dc9-d66d-1a581c752508"
      },
      "execution_count": null,
      "outputs": [
        {
          "output_type": "stream",
          "name": "stdout",
          "text": [
            "Your model was trained for 10 epochs\n"
          ]
        }
      ]
    },
    {
      "cell_type": "code",
      "source": [
        "if not \"accuracy\" in history.model.metrics_names:\n",
        "    print(\"Use 'accuracy' as metric when compiling your model.\")\n",
        "else:\n",
        "    print(\"The metric was correctly defined.\")"
      ],
      "metadata": {
        "colab": {
          "base_uri": "https://localhost:8080/"
        },
        "id": "sHvnnNyRXRy7",
        "outputId": "89e5eee3-b8a4-40d6-ae8f-e6a56abecca6"
      },
      "execution_count": null,
      "outputs": [
        {
          "output_type": "stream",
          "name": "stdout",
          "text": [
            "The metric was correctly defined.\n"
          ]
        }
      ]
    },
    {
      "cell_type": "code",
      "source": [],
      "metadata": {
        "id": "ir6sh3shXTBJ"
      },
      "execution_count": null,
      "outputs": []
    }
  ]
}